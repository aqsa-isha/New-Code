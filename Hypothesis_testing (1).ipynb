{
  "cells": [
    {
      "cell_type": "markdown",
      "id": "62b88e7e-9a44-4cbc-b60d-55512f8afd1d",
      "metadata": {
        "id": "62b88e7e-9a44-4cbc-b60d-55512f8afd1d"
      },
      "source": [
        "## A school claims that the average score of students in a math test is at least 70.\n",
        "## You collect scores from a sample of 10 students to test this claim"
      ]
    },
    {
      "cell_type": "markdown",
      "id": "029d9a6b-1883-4878-834b-278988c9fbec",
      "metadata": {
        "id": "029d9a6b-1883-4878-834b-278988c9fbec"
      },
      "source": [
        "# A hypothesis is a statement or assumption you want to test using data"
      ]
    },
    {
      "cell_type": "markdown",
      "id": "43503611-8ac6-4572-b68c-14682015c4a8",
      "metadata": {
        "id": "43503611-8ac6-4572-b68c-14682015c4a8"
      },
      "source": [
        "# Define Hypothesis\n",
        "## Null Hypothesis (H○): μ >= 70 (The average score is 70 or more)\n",
        "## Alternative Hypothesis(H1):  μ < 70 (The average score is less than 70)\n"
      ]
    },
    {
      "cell_type": "markdown",
      "id": "9e3995ea-7126-4587-bd50-80ad875e89e8",
      "metadata": {
        "id": "9e3995ea-7126-4587-bd50-80ad875e89e8"
      },
      "source": [
        "# Collect sample data\n",
        "You collect the following test score from 10 students.\n",
        "[68, 65, 70, 66, 69, 64, 67, 72, 66, 68]\n",
        "\n",
        "\n"
      ]
    },
    {
      "cell_type": "markdown",
      "id": "0e9355fd-a999-43d8-be17-aed1eb2936c8",
      "metadata": {
        "id": "0e9355fd-a999-43d8-be17-aed1eb2936c8"
      },
      "source": [
        "# What is a t-test?\n",
        "## A t-test is a statistical test used to compare the mean (average) of one or two groups to see if there's a significant difference between them."
      ]
    },
    {
      "cell_type": "markdown",
      "id": "04274887-574a-4dcc-801f-ff66b634da07",
      "metadata": {
        "id": "04274887-574a-4dcc-801f-ff66b634da07"
      },
      "source": [
        "# sample mean(x̄) = (68+65+70+66+69+64+67+72+66+68)/10 = 67.5\n",
        "# Sample Standard deviation(s)  ≈  2.4\n",
        "# sample size (n) = 10\n",
        "# Hypothesized Mean (µ0) = 70\n",
        "\n"
      ]
    },
    {
      "cell_type": "code",
      "execution_count": null,
      "id": "782f53da-b327-4439-8617-f7210c3d15a0",
      "metadata": {
        "id": "782f53da-b327-4439-8617-f7210c3d15a0"
      },
      "outputs": [],
      "source": []
    },
    {
      "cell_type": "markdown",
      "id": "1c598ea1-d6b9-4f76-9b22-e1c0353bf4b0",
      "metadata": {
        "id": "1c598ea1-d6b9-4f76-9b22-e1c0353bf4b0"
      },
      "source": [
        "# Find critical value\n",
        "### Degrees of freedom = n - 1 = 10 - 1 = 9\n",
        "### Significance value (α) = 0.05 (for one tailored test)\n",
        "### From t-table, critical t  ≈ -1.833"
      ]
    },
    {
      "cell_type": "markdown",
      "id": "d3448f8c-be82-40aa-8ac8-68182572bccc",
      "metadata": {
        "id": "d3448f8c-be82-40aa-8ac8-68182572bccc"
      },
      "source": [
        "# make a decision\n",
        "#### Calculated t = -3.42\n",
        "#### criticial t = -1.833\n",
        "\n",
        "### Since -3.42< -1.833 we reject the null hypothesis....\n"
      ]
    },
    {
      "cell_type": "markdown",
      "id": "1e755be7-654a-4cc2-b931-2488323ba1e5",
      "metadata": {
        "id": "1e755be7-654a-4cc2-b931-2488323ba1e5"
      },
      "source": []
    },
    {
      "cell_type": "code",
      "execution_count": null,
      "id": "3567aeb7-f41a-4f58-b6d7-5bfd7d5c1120",
      "metadata": {
        "id": "3567aeb7-f41a-4f58-b6d7-5bfd7d5c1120",
        "outputId": "071d45fa-84db-4cc5-91a3-4e5bf570869f"
      },
      "outputs": [
        {
          "name": "stdout",
          "output_type": "stream",
          "text": [
            "Mean is :  67.5\n",
            "Sample Standard Deviation: 2.41522945769824\n"
          ]
        }
      ],
      "source": [
        "import math\n",
        "\n",
        "# Sample data\n",
        "data = [68, 65, 70, 66, 69, 64, 67, 72, 66, 68]\n",
        "\n",
        "# Calculate the mean\n",
        "mean = sum(data) / len(data)\n",
        "print(\"Mean is : \", mean)\n",
        "# Calculate squared differences from the mean\n",
        "squared_diffs = [(x - mean) ** 2 for x in data]\n",
        "\n",
        "# Calculate sample standard deviation (divide by n - 1)\n",
        "std_dev = math.sqrt(sum(squared_diffs) / (len(data) - 1))\n",
        "\n",
        "print(\"Sample Standard Deviation:\", std_dev)\n"
      ]
    },
    {
      "cell_type": "code",
      "execution_count": null,
      "id": "fd5cad32-c9ee-4626-a130-d5346e3873fe",
      "metadata": {
        "id": "fd5cad32-c9ee-4626-a130-d5346e3873fe",
        "outputId": "f870c30a-7da2-4da8-9bfc-542edf54c86f"
      },
      "outputs": [
        {
          "name": "stdout",
          "output_type": "stream",
          "text": [
            "=== Hypothesis Testing on Students' Exam Scores ===\n",
            "Sample Mean = 67.50\n",
            "Sample Std Dev = 2.42\n",
            "t-statistic = -3.27\n",
            "Critical t-value = -1.833\n",
            "✅ Conclusion: Reject the null hypothesis. The average score is significantly less than 70.\n"
          ]
        }
      ],
      "source": [
        "import numpy as np\n",
        "from scipy import stats\n",
        "\n",
        "# Step 2: Sample Data\n",
        "scores = [68, 65, 70, 66, 69, 64, 67, 72, 66, 68]\n",
        "\n",
        "# Step 3: Sample Statistics\n",
        "sample_mean = np.mean(scores)\n",
        "sample_std = np.std(scores, ddof=1)  # Sample standard deviation\n",
        "n = len(scores)\n",
        "mu_0 = 70  # Hypothesized mean\n",
        "\n",
        "# Step 4: Compute t-statistic\n",
        "t_stat = (sample_mean - mu_0) / (sample_std / np.sqrt(n))\n",
        "\n",
        "# Step 4: Critical t-value for one-tailed test\n",
        "alpha = 0.05\n",
        "df = n - 1  # Degrees of freedom\n",
        "critical_t = stats.t.ppf(alpha, df)\n",
        "\n",
        "# Step 5: Make decision\n",
        "print(\"=== Hypothesis Testing on Students' Exam Scores ===\")\n",
        "print(f\"Sample Mean = {sample_mean:.2f}\")\n",
        "print(f\"Sample Std Dev = {sample_std:.2f}\")\n",
        "print(f\"t-statistic = {t_stat:.2f}\")\n",
        "print(f\"Critical t-value = {critical_t:.3f}\")\n",
        "# -3.42 < -1.833 (we reject the null hypothesis)\n",
        "if t_stat < critical_t:\n",
        "    print(\"✅ Conclusion: Reject the null hypothesis. The average score is significantly less than 70.\")\n",
        "else:\n",
        "    print(\"❌ Conclusion: Fail to reject the null hypothesis. Not enough evidence to say the average is less than 70.\")"
      ]
    },
    {
      "cell_type": "code",
      "execution_count": null,
      "id": "bc1bc4e0-1787-42a6-88c5-e139c8470383",
      "metadata": {
        "id": "bc1bc4e0-1787-42a6-88c5-e139c8470383"
      },
      "outputs": [],
      "source": []
    }
  ],
  "metadata": {
    "kernelspec": {
      "display_name": "Python 3 (ipykernel)",
      "language": "python",
      "name": "python3"
    },
    "language_info": {
      "codemirror_mode": {
        "name": "ipython",
        "version": 3
      },
      "file_extension": ".py",
      "mimetype": "text/x-python",
      "name": "python",
      "nbconvert_exporter": "python",
      "pygments_lexer": "ipython3",
      "version": "3.12.7"
    },
    "colab": {
      "provenance": []
    }
  },
  "nbformat": 4,
  "nbformat_minor": 5
}