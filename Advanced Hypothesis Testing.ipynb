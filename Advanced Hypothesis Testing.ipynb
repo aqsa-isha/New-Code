{
  "nbformat": 4,
  "nbformat_minor": 0,
  "metadata": {
    "colab": {
      "provenance": []
    },
    "kernelspec": {
      "name": "python3",
      "display_name": "Python 3"
    },
    "language_info": {
      "name": "python"
    }
  },
  "cells": [
    {
      "cell_type": "markdown",
      "source": [
        "# Advanced hypothesis Testing\n",
        "\n",
        "\n",
        "1.   T-Test\n",
        "\n",
        "*   Use Case: Compare 2 means\n",
        "*   Variable: Continuous\n",
        "*   Hypothesis Tests: µ1 = µ2\n",
        "\n",
        "\n",
        "\n",
        "2.   Chi-square\n",
        "\n",
        "\n",
        "*   Use Case: compare categorical variables\n",
        "*   Variable: Categorical\n",
        "*   Hypothesis Tests: No relationship\n",
        "\n",
        "\n",
        "\n",
        "3.   ANOVA\n",
        "\n",
        "\n",
        "\n",
        "*   Use Case: Compare 3+ means\n",
        "*   Variable: Continuous\n",
        "*   Hypothesis Tests: µ1 = µ2 = µ3 = .....\n",
        "\n",
        "\n",
        "\n"
      ],
      "metadata": {
        "id": "9OoSnLHTQ7b3"
      }
    },
    {
      "cell_type": "code",
      "source": [
        "from google.colab import drive\n",
        "drive.mount('/content/drive')"
      ],
      "metadata": {
        "id": "dynd544wdo9N"
      },
      "execution_count": null,
      "outputs": []
    },
    {
      "cell_type": "code",
      "source": [
        "# 1. T-Test (Two-Sample Independent)\n",
        "# Comparing two groups: Old Method vs New Method scores]\n",
        "\n",
        "from scipy import stats\n",
        "\n",
        "# Sample scores\n",
        "old_method = [65, 70, 72, 68, 66]\n",
        "new_method = [75, 78, 74, 77, 73]\n",
        "\n",
        "# Two-sample independent t-test\n",
        "t_stat, p_value = stats.ttest_ind(new_method, old_method)\n",
        "\n",
        "print(\"T-statistic:\", t_stat)\n",
        "print(\"P-value:\", p_value)\n",
        "\n",
        "if p_value < 0.05:\n",
        "    print(\"Reject H0: There is a significant difference.\")\n",
        "else:\n",
        "    print(\"Fail to reject H0: No significant difference.\")"
      ],
      "metadata": {
        "colab": {
          "base_uri": "https://localhost:8080/"
        },
        "id": "pYZCgZe1R8NR",
        "outputId": "6165c130-d964-4e43-cb81-135fbbfb3b06"
      },
      "execution_count": null,
      "outputs": [
        {
          "output_type": "stream",
          "name": "stdout",
          "text": [
            "T-statistic: 4.5536798306424675\n",
            "P-value: 0.0018653318042918627\n",
            "Reject H0: There is a significant difference.\n"
          ]
        }
      ]
    },
    {
      "cell_type": "code",
      "source": [
        "# 2. Chi-Square Test (Independence)\n",
        "# Are gender and product preference related?\n",
        "import pandas as pd\n",
        "from scipy.stats import chi2_contingency\n",
        "\n",
        "# Contingency table\n",
        "data = [[30, 20],  # Male\n",
        "        [40, 10]]  # Female\n",
        "\n",
        "# Perform Chi-square test\n",
        "chi2, p, dof, expected = chi2_contingency(data)\n",
        "\n",
        "print(\"Chi-square:\", chi2)\n",
        "print(\"P-value:\", p)\n",
        "print(\"Degrees of freedom:\", dof)\n",
        "print(\"Expected frequencies:\\n\", expected)\n",
        "\n",
        "if p < 0.05:\n",
        "    print(\"Reject H0: Variables are dependent.\")\n",
        "else:\n",
        "    print(\"Fail to reject H0: Variables are independent.\")"
      ],
      "metadata": {
        "colab": {
          "base_uri": "https://localhost:8080/"
        },
        "id": "ivXAkDQVS0zy",
        "outputId": "069d549f-cd39-4a35-c86c-b7e3e5d74069"
      },
      "execution_count": null,
      "outputs": [
        {
          "output_type": "stream",
          "name": "stdout",
          "text": [
            "Chi-square: 3.8571428571428577\n",
            "P-value: 0.04953461343562649\n",
            "Degrees of freedom: 1\n",
            "Expected frequencies:\n",
            " [[35. 15.]\n",
            " [35. 15.]]\n",
            "Reject H0: Variables are dependent.\n"
          ]
        }
      ]
    },
    {
      "cell_type": "code",
      "source": [
        "# 3. ANOVA (One-Way)\n",
        "#  Compare weight loss across 3 diets\n",
        "from scipy.stats import f_oneway\n",
        "\n",
        "# Weight loss data\n",
        "diet_A = [2, 3, 4]\n",
        "diet_B = [5, 6, 7]\n",
        "diet_C = [1, 2, 1]\n",
        "\n",
        "# One-way ANOVA\n",
        "f_stat, p_value = f_oneway(diet_A, diet_B, diet_C)\n",
        "\n",
        "print(\"F-statistic:\", f_stat)\n",
        "print(\"P-value:\", p_value)\n",
        "\n",
        "if p_value < 0.05:\n",
        "    print(\"Reject H0: At least one group is different.\")\n",
        "else:\n",
        "    print(\"Fail to reject H0: All means are similar.\")"
      ],
      "metadata": {
        "colab": {
          "base_uri": "https://localhost:8080/"
        },
        "id": "es2syrxmTHEA",
        "outputId": "9fea8534-f038-4ebe-b5c5-3c2bafcd106a"
      },
      "execution_count": null,
      "outputs": [
        {
          "output_type": "stream",
          "name": "stdout",
          "text": [
            "F-statistic: 21.571428571428584\n",
            "P-value: 0.0018200048423409232\n",
            "Reject H0: At least one group is different.\n"
          ]
        }
      ]
    },
    {
      "cell_type": "code",
      "source": [],
      "metadata": {
        "id": "QQSZ2K_0Tcxg"
      },
      "execution_count": null,
      "outputs": []
    }
  ]
}